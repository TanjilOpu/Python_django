{
  "nbformat": 4,
  "nbformat_minor": 0,
  "metadata": {
    "colab": {
      "provenance": [],
      "authorship_tag": "ABX9TyPUBZ1A5OzS3rMZXiKA6bTg",
      "include_colab_link": true
    },
    "kernelspec": {
      "name": "python3",
      "display_name": "Python 3"
    },
    "language_info": {
      "name": "python"
    }
  },
  "cells": [
    {
      "cell_type": "markdown",
      "metadata": {
        "id": "view-in-github",
        "colab_type": "text"
      },
      "source": [
        "<a href=\"https://colab.research.google.com/github/TanjilOpu/Python_django/blob/main/class2.ipynb\" target=\"_parent\"><img src=\"https://colab.research.google.com/assets/colab-badge.svg\" alt=\"Open In Colab\"/></a>"
      ]
    },
    {
      "cell_type": "code",
      "execution_count": null,
      "metadata": {
        "colab": {
          "base_uri": "https://localhost:8080/"
        },
        "id": "05NDjEncWQ2W",
        "outputId": "702b2bda-38ad-48b3-c599-8d8e6c696aa6"
      },
      "outputs": [
        {
          "output_type": "stream",
          "name": "stdout",
          "text": [
            "orange, banana, pear, mango, "
          ]
        }
      ],
      "source": [
        "fruits = ['orange','banana','mango']\n",
        "fruits.insert(2,'pear')\n",
        "for i in fruits:\n",
        "  print(i,end=', ')"
      ]
    },
    {
      "cell_type": "markdown",
      "source": [],
      "metadata": {
        "id": "Ga6atZ-fu6Fb"
      }
    },
    {
      "cell_type": "markdown",
      "source": [
        "queue = deque(fruits)"
      ],
      "metadata": {
        "id": "1B96sMHpbc4p"
      }
    },
    {
      "cell_type": "code",
      "source": [
        "from collections import deque\n",
        "\n",
        "fruits = ['orange', 'banana', 'mango']\n",
        "fruits.insert(2, 'pear')  # Insert 'pear' at index 2\n",
        "queue = deque(fruits)     # Corrected from dqueue to deque\n",
        "queue.pop()"
      ],
      "metadata": {
        "id": "Js3Mo9c4b2VN"
      },
      "execution_count": null,
      "outputs": []
    },
    {
      "cell_type": "markdown",
      "source": [
        "conventional way"
      ],
      "metadata": {
        "id": "P_DROZ06gWtF"
      }
    },
    {
      "cell_type": "code",
      "source": [
        "squares = []\n",
        "for i in range(10):\n",
        "  squares.append(i**2)\n",
        "print(squares)"
      ],
      "metadata": {
        "colab": {
          "base_uri": "https://localhost:8080/"
        },
        "id": "-jpSqMF0cWHf",
        "outputId": "b1179e63-e73f-445a-98b3-70c9c417c581"
      },
      "execution_count": null,
      "outputs": [
        {
          "output_type": "stream",
          "name": "stdout",
          "text": [
            "[0, 1, 4, 9, 16, 25, 36, 49, 64, 81]\n"
          ]
        }
      ]
    },
    {
      "cell_type": "markdown",
      "source": [
        "labda expression with loop"
      ],
      "metadata": {
        "id": "GztPKpwigavI"
      }
    },
    {
      "cell_type": "code",
      "source": [
        "squares = list(map(lambda x:x**2, range(10)))\n",
        "squares\n",
        "#equivalently\n",
        "l=[i**2 for i in range(10)]\n",
        "l"
      ],
      "metadata": {
        "colab": {
          "base_uri": "https://localhost:8080/"
        },
        "id": "4LaLaykVgZi5",
        "outputId": "0a1e35f5-2f11-47ec-d089-759ff8eff049"
      },
      "execution_count": null,
      "outputs": [
        {
          "output_type": "execute_result",
          "data": {
            "text/plain": [
              "[0, 1, 4, 9, 16, 25, 36, 49, 64, 81]"
            ]
          },
          "metadata": {},
          "execution_count": 12
        }
      ]
    },
    {
      "cell_type": "markdown",
      "source": [
        "list with two condition"
      ],
      "metadata": {
        "id": "xt1gtEpVlN1F"
      }
    },
    {
      "cell_type": "code",
      "source": [
        " ([(i, j) for i in range(10) if i % 2 == 0 for j in range(10) if j % 2 == 1])"
      ],
      "metadata": {
        "colab": {
          "base_uri": "https://localhost:8080/"
        },
        "id": "djcCuZp5lSQ5",
        "outputId": "a0cfed3a-ad01-401c-aef5-7666f5a1deeb"
      },
      "execution_count": null,
      "outputs": [
        {
          "output_type": "execute_result",
          "data": {
            "text/plain": [
              "[(0, 1),\n",
              " (0, 3),\n",
              " (0, 5),\n",
              " (0, 7),\n",
              " (0, 9),\n",
              " (2, 1),\n",
              " (2, 3),\n",
              " (2, 5),\n",
              " (2, 7),\n",
              " (2, 9),\n",
              " (4, 1),\n",
              " (4, 3),\n",
              " (4, 5),\n",
              " (4, 7),\n",
              " (4, 9),\n",
              " (6, 1),\n",
              " (6, 3),\n",
              " (6, 5),\n",
              " (6, 7),\n",
              " (6, 9),\n",
              " (8, 1),\n",
              " (8, 3),\n",
              " (8, 5),\n",
              " (8, 7),\n",
              " (8, 9)]"
            ]
          },
          "metadata": {},
          "execution_count": 13
        }
      ]
    },
    {
      "cell_type": "markdown",
      "source": [
        "a to z character print\n"
      ],
      "metadata": {
        "id": "oDhxH3SunDX3"
      }
    },
    {
      "cell_type": "code",
      "source": [
        "print([chr(c) for c in range(ord('a'), ord('z') + 1)])"
      ],
      "metadata": {
        "colab": {
          "base_uri": "https://localhost:8080/"
        },
        "id": "kd0e2HrsnHLF",
        "outputId": "e03212c1-c05e-4615-a146-7381860df9f4"
      },
      "execution_count": null,
      "outputs": [
        {
          "output_type": "stream",
          "name": "stdout",
          "text": [
            "['a', 'b', 'c', 'd', 'e', 'f', 'g', 'h', 'i', 'j', 'k', 'l', 'm', 'n', 'o', 'p', 'q', 'r', 's', 't', 'u', 'v', 'w', 'x', 'y', 'z']\n"
          ]
        }
      ]
    },
    {
      "cell_type": "code",
      "source": [
        "print([chr(c) for c in range(ord('A'), ord('Z') + 1) if c % 2 == 0])\n"
      ],
      "metadata": {
        "colab": {
          "base_uri": "https://localhost:8080/"
        },
        "id": "m11GH-yYoU84",
        "outputId": "92f1f62f-72d1-4703-a7ad-4d081169a40d"
      },
      "execution_count": null,
      "outputs": [
        {
          "output_type": "stream",
          "name": "stdout",
          "text": [
            "['B', 'D', 'F', 'H', 'J', 'L', 'N', 'P', 'R', 'T', 'V', 'X', 'Z']\n"
          ]
        }
      ]
    },
    {
      "cell_type": "code",
      "source": [
        "print([str(chr(c))+\":\"+str(c) for c in range(ord('a'), ord('z')) if(c%2==0)])"
      ],
      "metadata": {
        "colab": {
          "base_uri": "https://localhost:8080/"
        },
        "id": "tF1oSoEhpTGm",
        "outputId": "7caf96c9-7f64-4c92-dc03-569a5a1ada53"
      },
      "execution_count": null,
      "outputs": [
        {
          "output_type": "stream",
          "name": "stdout",
          "text": [
            "['b:98', 'd:100', 'f:102', 'h:104', 'j:106', 'l:108', 'n:110', 'p:112', 'r:114', 't:116', 'v:118', 'x:120']\n"
          ]
        }
      ]
    },
    {
      "cell_type": "code",
      "source": [
        "print([str(chr(c))+\":\"+str(c) for c in range(ord('a'), ord('z')) if(c%2==1)])"
      ],
      "metadata": {
        "colab": {
          "base_uri": "https://localhost:8080/"
        },
        "id": "8EuHg-xPqPfp",
        "outputId": "cfbfe87c-1654-4dad-aea4-924068e039d6"
      },
      "execution_count": null,
      "outputs": [
        {
          "output_type": "stream",
          "name": "stdout",
          "text": [
            "['a:97', 'c:99', 'e:101', 'g:103', 'i:105', 'k:107', 'm:109', 'o:111', 'q:113', 's:115', 'u:117', 'w:119', 'y:121']\n"
          ]
        }
      ]
    },
    {
      "cell_type": "markdown",
      "source": [
        "paragraph theke aki rokom word alada kora\n"
      ],
      "metadata": {
        "id": "GnUZ-huBu973"
      }
    },
    {
      "cell_type": "code",
      "source": [
        "par = list('This is dept of ict'.split)\n",
        "#newpar = par.split()\n",
        "search = 'is'\n",
        "found = 0  # Initialize the counter\n",
        "\n",
        "for i in par:\n",
        "    if i == search:\n",
        "        found += 1\n",
        "\n",
        "print(found)\n"
      ],
      "metadata": {
        "id": "_IudTUaFvDfp",
        "outputId": "7fce76be-c7be-406f-a5d8-e6264208f7fa",
        "colab": {
          "base_uri": "https://localhost:8080/"
        }
      },
      "execution_count": 10,
      "outputs": [
        {
          "output_type": "stream",
          "name": "stdout",
          "text": [
            "1\n"
          ]
        }
      ]
    }
  ]
}
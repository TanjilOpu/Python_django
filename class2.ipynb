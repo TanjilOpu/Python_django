{
  "nbformat": 4,
  "nbformat_minor": 0,
  "metadata": {
    "colab": {
      "provenance": [],
      "authorship_tag": "ABX9TyOkLZuOTTSMYp+DiImWWOST",
      "include_colab_link": true
    },
    "kernelspec": {
      "name": "python3",
      "display_name": "Python 3"
    },
    "language_info": {
      "name": "python"
    }
  },
  "cells": [
    {
      "cell_type": "markdown",
      "metadata": {
        "id": "view-in-github",
        "colab_type": "text"
      },
      "source": [
        "<a href=\"https://colab.research.google.com/github/TanjilOpu/Python_django/blob/main/class2.ipynb\" target=\"_parent\"><img src=\"https://colab.research.google.com/assets/colab-badge.svg\" alt=\"Open In Colab\"/></a>"
      ]
    },
    {
      "cell_type": "code",
      "execution_count": 1,
      "metadata": {
        "colab": {
          "base_uri": "https://localhost:8080/"
        },
        "id": "WcZE-XXboC8G",
        "outputId": "b14cd0fa-46c0-4b31-ab71-62d6b7bbb06a"
      },
      "outputs": [
        {
          "output_type": "stream",
          "name": "stdout",
          "text": [
            "['3.1', '3.14', '3.142', '3.1416', '3.14159', '3.141593', '3.1415927', '3.14159265', '3.141592654']\n"
          ]
        }
      ],
      "source": [
        "from math import pi\n",
        "print([str(round(pi,i)) for i in range(1,10)])"
      ]
    },
    {
      "cell_type": "code",
      "source": [
        "list1 = [1,2,3,4]\n",
        "list2 = [5,6,7,8]\n",
        "list3 = [9,10,11,12]\n",
        "nestedList = [list1,list2,list3]\n",
        "for i in nestedList:\n",
        "  print(i)\n",
        "#print(nestedList)"
      ],
      "metadata": {
        "colab": {
          "base_uri": "https://localhost:8080/"
        },
        "id": "YF4D50UuoZw8",
        "outputId": "5069f07b-a4fd-44b6-c498-3307dded8b38"
      },
      "execution_count": 3,
      "outputs": [
        {
          "output_type": "stream",
          "name": "stdout",
          "text": [
            "[1, 2, 3, 4]\n",
            "[5, 6, 7, 8]\n",
            "[9, 10, 11, 12]\n"
          ]
        }
      ]
    },
    {
      "cell_type": "code",
      "source": [
        "matrix = [\n",
        "    [1, 2, 3],\n",
        "    [4, 5, 6],\n",
        "    [7, 8, 9]\n",
        "]\n",
        "\n",
        "row = len(matrix)\n",
        "col = len(matrix[0])\n",
        "transpos = []\n",
        "\n",
        "for i in range(col):\n",
        "    new_row = []\n",
        "    for j in range(row):\n",
        "        new_row.append(matrix[j][i])\n",
        "    transpos.append(new_row)\n",
        "\n",
        "for i in transpos:\n",
        "    print(i)\n"
      ],
      "metadata": {
        "id": "YZ_ohvJVpoGI"
      },
      "execution_count": null,
      "outputs": []
    }
  ]
}
{
  "nbformat": 4,
  "nbformat_minor": 0,
  "metadata": {
    "colab": {
      "provenance": [],
      "authorship_tag": "ABX9TyOa1LWij0kcBeHeveXlA73W",
      "include_colab_link": true
    },
    "kernelspec": {
      "name": "python3",
      "display_name": "Python 3"
    },
    "language_info": {
      "name": "python"
    }
  },
  "cells": [
    {
      "cell_type": "markdown",
      "metadata": {
        "id": "view-in-github",
        "colab_type": "text"
      },
      "source": [
        "<a href=\"https://colab.research.google.com/github/TanjilOpu/Python_django/blob/main/Untitled0.ipynb\" target=\"_parent\"><img src=\"https://colab.research.google.com/assets/colab-badge.svg\" alt=\"Open In Colab\"/></a>"
      ]
    },
    {
      "cell_type": "code",
      "execution_count": 2,
      "metadata": {
        "colab": {
          "base_uri": "https://localhost:8080/"
        },
        "id": "05NDjEncWQ2W",
        "outputId": "702b2bda-38ad-48b3-c599-8d8e6c696aa6"
      },
      "outputs": [
        {
          "output_type": "stream",
          "name": "stdout",
          "text": [
            "orange, banana, pear, mango, "
          ]
        }
      ],
      "source": [
        "fruits = ['orange','banana','mango']\n",
        "fruits.insert(2,'pear')\n",
        "for i in fruits:\n",
        "  print(i,end=', ')"
      ]
    },
    {
      "cell_type": "markdown",
      "source": [
        "queue = deque(fruits)"
      ],
      "metadata": {
        "id": "1B96sMHpbc4p"
      }
    },
    {
      "cell_type": "code",
      "source": [
        "from collections import deque\n",
        "\n",
        "fruits = ['orange', 'banana', 'mango']\n",
        "fruits.insert(2, 'pear')  # Insert 'pear' at index 2\n",
        "queue = deque(fruits)     # Corrected from dqueue to deque\n",
        "queue.pop()"
      ],
      "metadata": {
        "id": "Js3Mo9c4b2VN"
      },
      "execution_count": null,
      "outputs": []
    },
    {
      "cell_type": "code",
      "source": [
        "squares = []\n",
        "for i in range(10):\n",
        "  squares.append(i**2)\n",
        "print(squares)"
      ],
      "metadata": {
        "colab": {
          "base_uri": "https://localhost:8080/"
        },
        "id": "-jpSqMF0cWHf",
        "outputId": "b1179e63-e73f-445a-98b3-70c9c417c581"
      },
      "execution_count": 5,
      "outputs": [
        {
          "output_type": "stream",
          "name": "stdout",
          "text": [
            "[0, 1, 4, 9, 16, 25, 36, 49, 64, 81]\n"
          ]
        }
      ]
    }
  ]
}